{
 "cells": [
  {
   "cell_type": "code",
   "execution_count": null,
   "metadata": {},
   "outputs": [],
   "source": [
    "import pandas as pd"
   ]
  },
  {
   "cell_type": "markdown",
   "metadata": {},
   "source": [
    "#### Récupération des données dans un dataframe"
   ]
  },
  {
   "cell_type": "code",
   "execution_count": null,
   "metadata": {},
   "outputs": [],
   "source": [
    "df = pd.read_csv(\"Speed_Dating_Data.csv\", encoding=\"ISO-8859-1\")\n",
    "df"
   ]
  },
  {
   "cell_type": "markdown",
   "metadata": {},
   "source": [
    "#### Formatage des données et extraction des colonnes intéressantes\n",
    "\n",
    "Dans un premier temps on récupère les colonnes intéressantes des profils et on les formate."
   ]
  },
  {
   "cell_type": "code",
   "execution_count": null,
   "metadata": {},
   "outputs": [],
   "source": [
    "colonne_profil = ['iid', 'gender', 'age', 'field_cd', 'race', 'goal', 'from', 'career_c']\n",
    "\n",
    "df_profil = df[colonne_profil]\n",
    "df_profil[\"gender\"] = df_profil[\"gender\"]\\\n",
    "    .replace(0, \"F\")\\\n",
    "    .replace(1,\"H\").fillna(\"Non Renseigner\").astype(str)\n",
    "df_profil[\"age\"] = df_profil[\"age\"].apply(lambda x: 1 if x < 20 else (2 if x < 25 else (3 if x < 35 else (4 if x < 45 else 5))))\n",
    "df_profil[\"from\"] = df_profil[\"from\"].fillna(\"Non Renseigner\").astype(str)\n",
    "df_profil[\"race\"] = df_profil[\"race\"]\\\n",
    "    .replace(1, \"Black\")\\\n",
    "    .replace(2,\"European\")\\\n",
    "    .replace(3,\"Latino\")\\\n",
    "    .replace(4,\"Asian\")\\\n",
    "    .replace(5,\"Native American\")\\\n",
    "    .replace(6,\"Other\").fillna(\"Non Renseigner\").astype(str)\n",
    "df_profil[\"goal\"] = df_profil[\"goal\"]\\\n",
    "    .replace(1, \"Fun night out\")\\\n",
    "    .replace(2,\"Meet new people\")\\\n",
    "    .replace(3,\"Get a date\")\\\n",
    "    .replace(4,\"Serious relationship\")\\\n",
    "    .replace(5,\"Say i did it\")\\\n",
    "    .replace(6,\"Other\").fillna(\"Non Renseigner\").astype(str)\n",
    "df_profil[\"field_cd\"] = df_profil[\"field_cd\"]\\\n",
    "    .replace(1,\"Law\")\\\n",
    "    .replace(2,\"Math\")\\\n",
    "    .replace(3,\"Psychologist\")\\\n",
    "    .replace(4,\"Pharmaceuticals\")\\\n",
    "    .replace(5,\"Engineering\")\\\n",
    "    .replace(6,\"Journalism\")\\\n",
    "    .replace(7,\"History/Religion/Philosophy\")\\\n",
    "    .replace(8,\"Business\")\\\n",
    "    .replace(9,\"Education\")\\\n",
    "    .replace(10,\"Biological\")\\\n",
    "    .replace(11,\"Social Work\")\\\n",
    "    .replace(12,\"Undergrad\")\\\n",
    "    .replace(13,\"Political Science\")\\\n",
    "    .replace(14,\"Film\")\\\n",
    "    .replace(15,\"Arts\")\\\n",
    "    .replace(16,\"Languages\")\\\n",
    "    .replace(17,\"Architecture\")\\\n",
    "    .replace(18,\"Other\").fillna(\"Non Renseigner\").astype(str)\n",
    "df_profil[\"career_c\"] = df_profil[\"career_c\"]\\\n",
    "    .replace(1,\"Lawyer\")\\\n",
    "    .replace(2,\"Academic/Research \")\\\n",
    "    .replace(3,\"Psychologist\")\\\n",
    "    .replace(4,\"Doctor/Medicine\")\\\n",
    "    .replace(5,\"Engineer\")\\\n",
    "    .replace(6,\"Creative Arts/Entertainment\")\\\n",
    "    .replace(7,\"Business\")\\\n",
    "    .replace(8,\"Real Estate\")\\\n",
    "    .replace(9,\"Humanitarian Affairs\")\\\n",
    "    .replace(10,\"Undecided\")\\\n",
    "    .replace(11,\"Social Work\")\\\n",
    "    .replace(12,\"Speech Pathology\")\\\n",
    "    .replace(13,\"Politics\")\\\n",
    "    .replace(14,\"Pro sports/Athletics\")\\\n",
    "    .replace(15,\"Other\")\\\n",
    "    .replace(16,\"Journalism\")\\\n",
    "    .replace(17,\"Architecture\").fillna(\"Non Renseigner\").astype(str)\n",
    "df_profil = df_profil.drop_duplicates()"
   ]
  },
  {
   "cell_type": "markdown",
   "metadata": {},
   "source": [
    "On fait la même chose pour les colonnes intéressantes pour les rencontres."
   ]
  },
  {
   "cell_type": "code",
   "execution_count": null,
   "metadata": {},
   "outputs": [],
   "source": [
    "colonne_rencontre = ['iid', 'gender', 'age', 'field_cd', 'race', 'goal', 'from', 'career_c', 'match', 'pid']\n",
    "\n",
    "df_rencontre = df[colonne_rencontre]\n",
    "df_rencontre[\"gender\"] = df_rencontre[\"gender\"]\\\n",
    "    .replace(0, \"F\")\\\n",
    "    .replace(1,\"H\").fillna(\"Non Renseigner\").astype(str)\n",
    "df_rencontre[\"age\"] = df_rencontre[\"age\"].apply(lambda x: 1 if x < 20 else (2 if x < 25 else (3 if x < 35 else (4 if x < 45 else 5))))\n",
    "df_rencontre[\"from\"] = df_profil[\"from\"].fillna(\"Non Renseigner\").astype(str)\n",
    "df_rencontre[\"race\"] = df_rencontre[\"race\"]\\\n",
    "    .replace(1, \"Black\")\\\n",
    "    .replace(2,\"European\")\\\n",
    "    .replace(3,\"Latino\")\\\n",
    "    .replace(4,\"Asian\")\\\n",
    "    .replace(5,\"Native American\")\\\n",
    "    .replace(6,\"Other\").fillna(\"Non Renseigner\").astype(str)\n",
    "df_rencontre[\"goal\"] = df_rencontre[\"goal\"]\\\n",
    "    .replace(1, \"Fun night out\")\\\n",
    "    .replace(2,\"Meet new people\")\\\n",
    "    .replace(3,\"Get a date\")\\\n",
    "    .replace(4,\"Serious relationship\")\\\n",
    "    .replace(5,\"Say i did it\")\\\n",
    "    .replace(6,\"Other\").fillna(\"Non Renseigner\").astype(str)\n",
    "df_rencontre[\"field_cd\"] = df_rencontre[\"field_cd\"]\\\n",
    "    .replace(1,\"Law\")\\\n",
    "    .replace(2,\"Math\")\\\n",
    "    .replace(3,\"Psychologist\")\\\n",
    "    .replace(4,\"Pharmaceuticals\")\\\n",
    "    .replace(5,\"Engineering\")\\\n",
    "    .replace(6,\"Journalism\")\\\n",
    "    .replace(7,\"History/Religion/Philosophy\")\\\n",
    "    .replace(8,\"Business\")\\\n",
    "    .replace(9,\"Education\")\\\n",
    "    .replace(10,\"Biological\")\\\n",
    "    .replace(11,\"Social Work\")\\\n",
    "    .replace(12,\"Undergrad\")\\\n",
    "    .replace(13,\"Political Science\")\\\n",
    "    .replace(14,\"Film\")\\\n",
    "    .replace(15,\"Arts\")\\\n",
    "    .replace(16,\"Languages\")\\\n",
    "    .replace(17,\"Architecture\")\\\n",
    "    .replace(18,\"Other\").fillna(\"Non Renseigner\").astype(str)\n",
    "df_rencontre[\"career_c\"] = df_rencontre[\"career_c\"]\\\n",
    "    .replace(1,\"Lawyer\")\\\n",
    "    .replace(2,\"Academic/Research \")\\\n",
    "    .replace(3,\"Psychologist\")\\\n",
    "    .replace(4,\"Doctor/Medicine\")\\\n",
    "    .replace(5,\"Engineer\")\\\n",
    "    .replace(6,\"Creative Arts/Entertainment\")\\\n",
    "    .replace(7,\"Business\")\\\n",
    "    .replace(8,\"Real Estate\")\\\n",
    "    .replace(9,\"Humanitarian Affairs\")\\\n",
    "    .replace(10,\"Undecided\")\\\n",
    "    .replace(11,\"Social Work\")\\\n",
    "    .replace(12,\"Speech Pathology\")\\\n",
    "    .replace(13,\"Politics\")\\\n",
    "    .replace(14,\"Pro sports/Athletics\")\\\n",
    "    .replace(15,\"Other\")\\\n",
    "    .replace(16,\"Journalism\")\\\n",
    "    .replace(17,\"Architecture\").fillna(\"Non Renseigner\").astype(str)\n",
    "\n",
    "df_rencontre[\"pid\"] = df_rencontre[\"pid\"].fillna(0).astype(int)\n",
    "\n",
    "df_rencontre\n"
   ]
  },
  {
   "cell_type": "markdown",
   "metadata": {},
   "source": [
    "#### Création des fonctions d'interprétations\n",
    "\n",
    "On va maintenant pouvoir commencer à analyser les données et mettre en place des fonctions qui nous seront utiles pour l'interprétations des données pour notre jeu.\n",
    "\n",
    "On commence par une fonction qui va pioché tous les profils des utilisateurs ayant matché avec la personne ayant l'iid donnée."
   ]
  },
  {
   "cell_type": "code",
   "execution_count": null,
   "metadata": {},
   "outputs": [],
   "source": [
    "def getUserMatchProfilDataframe(iid):\n",
    "    matchesPid=df_rencontre.loc[df_rencontre[\"iid\"]==iid][\"pid\"]\n",
    "    return df_profil[df_profil[\"iid\"].isin(matchesPid)]"
   ]
  },
  {
   "cell_type": "markdown",
   "metadata": {},
   "source": [
    "On créer une autre fonction qui calcul le pourcentage de change que la valeur (value) dans la colonnes match avec les autres valeurs de la colonne.\n",
    "Ceci nous servira lorsque l'on voudra calculer la probabilité que 2 profils complets matchent ensemble."
   ]
  },
  {
   "cell_type": "code",
   "execution_count": null,
   "metadata": {},
   "outputs": [],
   "source": [
    "def getColumnMatchPourcente(column, value):\n",
    "    columnRencontrePid = df_rencontre.loc[df_rencontre[column] == value][\"pid\"]\n",
    "    columnMatchesPid = df_rencontre.loc[(df_rencontre[\"match\"] == 1) & (df_rencontre[column] == value)][\"pid\"]\n",
    "    \n",
    "    columnMatchesPid = columnMatchesPid\n",
    "    res = (df_profil[df_profil[\"iid\"].isin(columnMatchesPid)][column].value_counts())/(df_profil[df_profil[\"iid\"].isin(columnRencontrePid)][column].value_counts())\n",
    "    return  pd.Series([0.5]) if res.empty else res\n",
    "\n",
    "getColumnMatchPourcente(\"gender\",\"H\")"
   ]
  },
  {
   "cell_type": "markdown",
   "metadata": {},
   "source": [
    "Ici on récupère juste un profil dans le dataframe contenant les profils, dans notre cas le profil correspond à celui ayant iid égal à 1."
   ]
  },
  {
   "cell_type": "code",
   "execution_count": null,
   "metadata": {},
   "outputs": [],
   "source": [
    "profil2 = 1\n",
    "profil2Df = df_profil.loc[(df_profil[\"iid\"] == profil2)]\n",
    "\n",
    "profil2Df"
   ]
  },
  {
   "cell_type": "markdown",
   "metadata": {},
   "source": [
    "On créé une nouvelle fonction qui va ce servir de la fonction précédente pour calculer la probabilité que 2 profils match ensemble."
   ]
  },
  {
   "cell_type": "code",
   "execution_count": null,
   "metadata": {},
   "outputs": [],
   "source": [
    "def getMatchPourcente(p1:pd.DataFrame,p2:pd.DataFrame):\n",
    "    _from = float(getColumnMatchPourcente(\"from\", p1[\"from\"].values[0]).fillna(0.5).get(p2[\"from\"],0.5))\n",
    "    _career_c = float(getColumnMatchPourcente(\"career_c\", p1[\"career_c\"].values[0]).fillna(0.5).get(p2[\"career_c\"],0.5))\n",
    "    _race = float(getColumnMatchPourcente(\"race\", p1[\"race\"].values[0]).fillna(0.5).get(p2[\"race\"],0.5))\n",
    "    _gender = float(getColumnMatchPourcente(\"gender\", p1[\"gender\"].values[0]).fillna(0.5).get(p2[\"gender\"],0.5))\n",
    "    _goal = float(getColumnMatchPourcente(\"goal\", p1[\"goal\"].values[0]).fillna(0.5).get(p2[\"goal\"],0.5))\n",
    "    _field_cd = float(getColumnMatchPourcente(\"field_cd\", p1[\"field_cd\"].values[0]).fillna(0.5).get(p2[\"field_cd\"],0.5))\n",
    "    _age = float(getColumnMatchPourcente(\"age\", p1[\"age\"].values[0]).fillna(0.5).get(p2[\"age\"],0.5))\n",
    "    \n",
    "    return _from*_career_c*_race*_gender*_goal*_field_cd*_age*100\n"
   ]
  },
  {
   "cell_type": "markdown",
   "metadata": {},
   "source": [
    "Maintenant que l'on peut calculer la probabilité que 2 profils matchent ensemble, on va avoir besoin de générer un profil aléatoire, c'est justement ce que fait la fonction qui suit.\n",
    "Pour illustrer la fonction ci-dessus on génère un profil aléatoire et on calcul la probabilité que le profil créer précedement match avec le profil que l'on vient de générer."
   ]
  },
  {
   "cell_type": "code",
   "execution_count": null,
   "metadata": {},
   "outputs": [],
   "source": [
    "\n",
    "def getRandomProfil():\n",
    "    def echantillonner_et_appliquer(colonne:pd.Series):\n",
    "        echantillon = colonne.sample(n=1).iloc[0]\n",
    "        return colonne.apply(lambda x: echantillon)\n",
    "\n",
    "    return df_profil.apply(echantillonner_et_appliquer).drop_duplicates()\n",
    "\n",
    "\n",
    "profil1Df = getRandomProfil()\n",
    "\n",
    "getMatchPourcente(profil1Df, profil2Df)"
   ]
  },
  {
   "cell_type": "markdown",
   "metadata": {},
   "source": [
    "Enfin on créer une dernière fonction qui trouve le profil avec lequel on a le plus de chance de matcher."
   ]
  },
  {
   "cell_type": "code",
   "execution_count": null,
   "metadata": {},
   "outputs": [],
   "source": [
    "def getBestCompatibility(profil):\n",
    "    return pd.DataFrame({\n",
    "        \"gender\": getColumnMatchPourcente(\"gender\", profil[\"gender\"].values[0]).idxmax(),\n",
    "        \"age\": getColumnMatchPourcente(\"age\", profil[\"age\"].values[0]).idxmax(),\n",
    "        \"field_cd\": getColumnMatchPourcente(\"field_cd\", profil[\"field_cd\"].values[0]).idxmax(),\n",
    "        \"race\": getColumnMatchPourcente(\"race\", profil[\"race\"].values[0]).idxmax(),\n",
    "        \"goal\": getColumnMatchPourcente(\"goal\", profil[\"goal\"].values[0]).idxmax(),\n",
    "        \"from\": getColumnMatchPourcente(\"from\", profil[\"from\"].values[0]).idxmax(),\n",
    "        \"career_c\": getColumnMatchPourcente(\"career_c\", profil[\"career_c\"].values[0]).idxmax()\n",
    "    }, index=[0])\n",
    "\n",
    "\n",
    "pr2 = getBestCompatibility(profil1Df)\n",
    "\n",
    "getMatchPourcente(profil1Df, pr2)\n"
   ]
  }
 ],
 "metadata": {
  "kernelspec": {
   "display_name": "Python 3",
   "language": "python",
   "name": "python3"
  },
  "language_info": {
   "codemirror_mode": {
    "name": "ipython",
    "version": 3
   },
   "file_extension": ".py",
   "mimetype": "text/x-python",
   "name": "python",
   "nbconvert_exporter": "python",
   "pygments_lexer": "ipython3",
   "version": "3.12.0"
  }
 },
 "nbformat": 4,
 "nbformat_minor": 2
}
